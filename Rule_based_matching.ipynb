{
  "nbformat": 4,
  "nbformat_minor": 0,
  "metadata": {
    "colab": {
      "name": "Rule-based matching.ipynb",
      "provenance": [],
      "authorship_tag": "ABX9TyNUULHrk9ELWXt0qOVooPu+",
      "include_colab_link": true
    },
    "kernelspec": {
      "name": "python3",
      "display_name": "Python 3"
    },
    "language_info": {
      "name": "python"
    }
  },
  "cells": [
    {
      "cell_type": "markdown",
      "metadata": {
        "id": "view-in-github",
        "colab_type": "text"
      },
      "source": [
        "<a href=\"https://colab.research.google.com/github/jogamaral/language_detector/blob/master/Rule_based_matching.ipynb\" target=\"_parent\"><img src=\"https://colab.research.google.com/assets/colab-badge.svg\" alt=\"Open In Colab\"/></a>"
      ]
    },
    {
      "cell_type": "code",
      "metadata": {
        "colab": {
          "base_uri": "https://localhost:8080/"
        },
        "id": "_KzqwzoqaF2Z",
        "outputId": "b612e881-9a7f-49d9-c06b-4b23af418cf1"
      },
      "source": [
        "from google.colab import drive\n",
        "drive.mount('/content/drive',force_remount=True)"
      ],
      "execution_count": null,
      "outputs": [
        {
          "output_type": "stream",
          "text": [
            "Mounted at /content/drive\n"
          ],
          "name": "stdout"
        }
      ]
    },
    {
      "cell_type": "code",
      "metadata": {
        "id": "huUj4g2-G7z2"
      },
      "source": [
        "import spacy\n",
        "nlp = spacy.load('en_core_web_sm',disable=['ner'])"
      ],
      "execution_count": null,
      "outputs": []
    },
    {
      "cell_type": "code",
      "metadata": {
        "id": "nYiif-xDajzf"
      },
      "source": [
        "import pandas as pd\n",
        "df = (pd.read_csv('/content/drive/MyDrive/Colab Notebooks/data/Questions.csv',\n",
        "                  nrows=2_000_000,encoding='ISO-8859-1',usecols=['Title','Id']))\n",
        "titles = [_ for _ in df.loc[df['Title'].str.lower().str.contains('go')]['Title']]"
      ],
      "execution_count": null,
      "outputs": []
    },
    {
      "cell_type": "code",
      "metadata": {
        "colab": {
          "base_uri": "https://localhost:8080/"
        },
        "id": "wFRZe1hqH3u_",
        "outputId": "180bf4f6-ed42-4be8-97f3-7e4f8dc8a463"
      },
      "source": [
        "df_tags = pd.read_csv(\"/content/drive/MyDrive/Colab Notebooks/data/Tags.csv\")\n",
        "go_ids = df_tags.loc[df_tags['Tag'] == 'go']['Id']\n",
        "\n",
        "def has_go_token(doc):\n",
        "  for t in doc:\n",
        "    if t.lower_ in ['go', 'golang']:\n",
        "      if t.pos_ != 'VERB':\n",
        "        return True\n",
        "  return False\n",
        "\n",
        "all_go_sentences = df.loc[df['Id'].isin(go_ids)]['Title'].tolist()\n",
        "detectable = [d.text for d in nlp.pipe(all_go_sentences) if has_go_token(d)]\n",
        "\n",
        "non_detectable = (df.loc[~df['Id'].isin(go_ids)]\n",
        "                  .loc[df['Title'].str.lower().str.contains('go')]\n",
        "                  ['Title']\n",
        "                  .tolist())\n",
        "\n",
        "non_detectable = [d.text for d in nlp.pipe(non_detectable) if has_go_token(d)]\n",
        "\n",
        "len(all_go_sentences),len(detectable),len(non_detectable)            "
      ],
      "execution_count": null,
      "outputs": [
        {
          "output_type": "execute_result",
          "data": {
            "text/plain": [
              "(1858, 942, 112)"
            ]
          },
          "metadata": {
            "tags": []
          },
          "execution_count": 4
        }
      ]
    },
    {
      "cell_type": "code",
      "metadata": {
        "id": "7QOgJIsoXT9g"
      },
      "source": [
        "log = []"
      ],
      "execution_count": null,
      "outputs": []
    },
    {
      "cell_type": "code",
      "metadata": {
        "id": "TpwvlajSF9wj"
      },
      "source": [
        "model_name = \"en_core_web_lg\"\n",
        "model = spacy.load(model_name, disable=[\"ner\"])\n",
        "\n",
        "def has_go_token(doc):\n",
        "    for t in doc:\n",
        "        if t.lower_ in [\"go\", \"golang\"]:\n",
        "            if t.pos_ != \"VERB\":\n",
        "                return True\n",
        "    return False\n",
        "\n",
        "method = \"not-verb-but-pobj\"\n",
        "\n",
        "correct = sum(has_go_token(doc) for doc in model.pipe(detectable))\n",
        "wrong = sum(has_go_token(doc) for doc in model.pipe(non_detectable))\n",
        "precision = correct/(correct + wrong)\n",
        "recall = correct/len(detectable)\n",
        "accuracy = (correct + len(non_detectable) - wrong)/(len(detectable) + len(non_detectable))\n",
        "\n",
        "log.append([method,model_name,precision,recall,accuracy]) # this is logged"
      ],
      "execution_count": null,
      "outputs": []
    },
    {
      "cell_type": "code",
      "metadata": {
        "colab": {
          "base_uri": "https://localhost:8080/",
          "height": 112
        },
        "id": "xxNOrVMPXegN",
        "outputId": "b7a455e5-9e18-4187-add7-bdfffb7da1f4"
      },
      "source": [
        "pd.DataFrame(data=log,columns=['method','model','precision','recall','accuracy'])"
      ],
      "execution_count": null,
      "outputs": [
        {
          "output_type": "execute_result",
          "data": {
            "text/html": [
              "<div>\n",
              "<style scoped>\n",
              "    .dataframe tbody tr th:only-of-type {\n",
              "        vertical-align: middle;\n",
              "    }\n",
              "\n",
              "    .dataframe tbody tr th {\n",
              "        vertical-align: top;\n",
              "    }\n",
              "\n",
              "    .dataframe thead th {\n",
              "        text-align: right;\n",
              "    }\n",
              "</style>\n",
              "<table border=\"1\" class=\"dataframe\">\n",
              "  <thead>\n",
              "    <tr style=\"text-align: right;\">\n",
              "      <th></th>\n",
              "      <th>method</th>\n",
              "      <th>model</th>\n",
              "      <th>precision</th>\n",
              "      <th>recall</th>\n",
              "      <th>accuracy</th>\n",
              "    </tr>\n",
              "  </thead>\n",
              "  <tbody>\n",
              "    <tr>\n",
              "      <th>0</th>\n",
              "      <td>not-verb-but-pobj</td>\n",
              "      <td>en_core_web_md</td>\n",
              "      <td>0.912032</td>\n",
              "      <td>0.957537</td>\n",
              "      <td>0.879507</td>\n",
              "    </tr>\n",
              "    <tr>\n",
              "      <th>1</th>\n",
              "      <td>not-verb-but-pobj</td>\n",
              "      <td>en_core_web_sm</td>\n",
              "      <td>0.893738</td>\n",
              "      <td>1.000000</td>\n",
              "      <td>0.893738</td>\n",
              "    </tr>\n",
              "  </tbody>\n",
              "</table>\n",
              "</div>"
            ],
            "text/plain": [
              "              method           model  precision    recall  accuracy\n",
              "0  not-verb-but-pobj  en_core_web_md   0.912032  0.957537  0.879507\n",
              "1  not-verb-but-pobj  en_core_web_sm   0.893738  1.000000  0.893738"
            ]
          },
          "metadata": {
            "tags": []
          },
          "execution_count": 11
        }
      ]
    },
    {
      "cell_type": "code",
      "metadata": {
        "id": "r9ec24M1XwXq"
      },
      "source": [
        ""
      ],
      "execution_count": null,
      "outputs": []
    }
  ]
}